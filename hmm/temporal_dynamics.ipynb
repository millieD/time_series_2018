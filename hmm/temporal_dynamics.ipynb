{
 "cells": [
  {
   "cell_type": "code",
   "execution_count": 1,
   "metadata": {},
   "outputs": [],
   "source": [
    "from util import *\n",
    "from sklearn.preprocessing import normalize\n",
    "model = GetModel()"
   ]
  },
  {
   "cell_type": "markdown",
   "metadata": {},
   "source": [
    "# In this file:\n",
    "## Plot HMM  & RNN hidden state trajectory\n",
    "## Locate Repeating Patterns in Synthetic Data\n",
    "## Compute Aggregate Error \n"
   ]
  },
  {
   "cell_type": "code",
   "execution_count": 13,
   "metadata": {},
   "outputs": [
    {
     "name": "stdout",
     "output_type": "stream",
     "text": [
      "[ 0.12457243  0.08600771]\n"
     ]
    },
    {
     "data": {
      "image/png": "[encoded data removed]",
      "text/plain": [
       "<matplotlib.figure.Figure at 0x7f745be612b0>"
      ]
     },
     "metadata": {},
     "output_type": "display_data"
    }
   ],
   "source": [
    "def PlotSample(sample, pred_symbols, pred_states, vec_projected):\n",
    "    for i in range(len(sample)-1): #range(50, 98):#num_symbols-1):\n",
    "        \n",
    "        x, y = vec_projected[i,0], vec_projected[i,1] \n",
    "        next_x, next_y = vec_projected[i+1,0], vec_projected[i+1,1] \n",
    "\n",
    "        plt.text(x, y, '%d'%(pred_symbols[i]), fontsize=20, color = colors[pred_states[i]])\n",
    "\n",
    "        plt.arrow(x, y, next_x - x, next_y - y, \n",
    "                  color = colors[sample[i]], alpha= 0.5,\n",
    "                  shape='full', lw=1, length_includes_head=True, head_width=.01)\n",
    "        # write out predicted sequence and actual sequence at the bottom \n",
    "        truth_color = 'black'\n",
    "        if sample[i] != pred_symbols[i]:\n",
    "            truth_color = 'red'\n",
    "        #plt.text( i/100-0.4, -0.55, '%d'%(sample[i]), fontsize=20, color = truth_color)\n",
    "        #plt.text( i/100-0.4, -0.5, '%d'%(pred_symbols[i]), fontsize=20, color = colors[pred_states[i]])\n",
    "        \n",
    "        #if Pattern_Indices[index+1] != i + 1: \n",
    "    #plt.axis('off')\n",
    "    #plt.ylim(-0.6, 0.6)\n",
    "    #plt.xlim(-0.4, 0.6)\n",
    "    plt.show()\n",
    "\n",
    "dataset, struc = Data()\n",
    "num_samples, num_symbols = dataset.shape\n",
    "\n",
    "num_samples = 200\n",
    "dataset = dataset[:num_samples]\n",
    "\n",
    "dataset_vec = np.concatenate(dataset).reshape(-1, 1)  \n",
    "lengths = [ num_symbols for x in range(num_samples) ]                \n",
    "\n",
    "pca = PCA(n_components = 2)\n",
    "colors = ['blue', 'green', 'red', 'cyan', 'brown', 'grey', 'orange', 'black', 'purple', 'olive']\n",
    "\n",
    "state_seq_prob = model.predict_proba(dataset_vec[:100*10], lengths[:10])\n",
    "#state_seq_prob = model.predict_proba(dataset_vec, lengths)\n",
    "two_dim_Z = pca.fit_transform(state_seq_prob)  \n",
    "\n",
    "print(pca.explained_variance_)\n",
    "two_dim_Z = two_dim_Z.reshape(-1, 100, 2)\n",
    "\n",
    "state_sequences = model.predict( dataset_vec, lengths )\n",
    "state_sequences = state_sequences.reshape( -1, 100 )\n",
    "\n",
    "#print(state_sequences.shape)\n",
    "ss_input = state_sequences.reshape(-1)\n",
    "#print(ss_input.shape)\n",
    "\n",
    "best_pred_at_state = np.argmax(model.emissionprob_[ss_input], axis = 1 ).reshape(num_samples, 100)\n",
    "\n",
    "for sample_num in [3]:\n",
    "    \n",
    "    select according to  sample index: actual sequence, predicted symbols, \n",
    "    predicted states and projected hidden state    \n",
    "    \n",
    "    pattern_indices = np.argwhere(ExtendedRPI[sample_num]).reshape(-1)\n",
    "    \n",
    "    sample = dataset[ sample_num][pattern_indices]\n",
    "    pred_symbols = best_pred_at_state[sample_num][pattern_indices]\n",
    "    pred_states = state_sequences[sample_num][pattern_indices]\n",
    "    \n",
    "    vec_projected = two_dim_Z[sample_num][pattern_indices]\n",
    "    vec_projected = normalize(vec_projected)\n",
    "        \n",
    "    PlotSample( sample, pred_symbols, pred_states, vec_projected )\n",
    "\n",
    "# indices =  np.arange(100)\n",
    "\n",
    "# hmm_pred = best_pred_at_state[indices]\n",
    "# hmm_target = dataset[indices]\n",
    "# pattern_indices = ExtendedRPI[indices]\n",
    "\n",
    "# pred_list, truth_list = [], []\n",
    "# for a, b, i in zip(hmm_pred, hmm_target, pattern_indices):\n",
    "#     #if len(a) and len(b):\n",
    "#     pred_list += list(a[i == 1 ])\n",
    "#     truth_list += list(b[i == 1 ])\n",
    "        \n",
    "#         #print( a[i == 1 ], b[i == 1] )\n",
    "\n",
    "# #print(hmm_pred.shape, hmm_target.shape)\n",
    "# print(truth_list[0:6], pred_list[0:6])\n",
    "# ComputeError(np.array(truth_list), np.array(pred_list) )\n"
   ]
  },
  {
   "cell_type": "code",
   "execution_count": 3,
   "metadata": {},
   "outputs": [
    {
     "name": "stdout",
     "output_type": "stream",
     "text": [
      "predicted and real sizes:  (50, 85) (50, 85)\n",
      "predicted and real sizes:  (50, 100) (50, 100)\n"
     ]
    },
    {
     "data": {
      "text/plain": [
       "(0.80800000000000005, 0.027199999999999998)"
      ]
     },
     "execution_count": 3,
     "metadata": {},
     "output_type": "execute_result"
    }
   ],
   "source": [
    "protein_p, protein_r = ReadTxt('protein_holdout.txt')\n",
    "syn_p, syn_r = ReadTxt('syn_holdout.txt')\n",
    "\n",
    "ComputeError(protein_p, protein_r), ComputeError(syn_p, syn_r)"
   ]
  },
  {
   "cell_type": "code",
   "execution_count": 5,
   "metadata": {},
   "outputs": [],
   "source": [
    "def GetRepeats():\n",
    "    num_samples, seq_len = struc.shape\n",
    "    \n",
    "    RepeatPatternIndices = struc != 0 #np.argwhere(struc != 0) \n",
    "    cache = np.zeros(RepeatPatternIndices.shape)\n",
    "    \n",
    "    for i in range( len(RepeatPatternIndices) ):\n",
    "        for j in range(seq_len):\n",
    "            if RepeatPatternIndices[i,j] == 1:\n",
    "                if  j+2 <= seq_len :## pattern not at the end of sequence \n",
    "                    cache[i,j:j+4] = 1\n",
    "                if RepeatPatternIndices[i,j+1] == 0: #or RepeatPatternIndices[i,j+2] == 0: \n",
    "                    break\n",
    "    return cache\n",
    "\n",
    "ExtendedRPI = GetRepeats()"
   ]
  },
  {
   "cell_type": "code",
   "execution_count": 4,
   "metadata": {},
   "outputs": [
    {
     "data": {
      "text/plain": [
       "array([ 0.,  0.,  0.,  0.,  0.,  0.,  0.,  0.,  0.,  0.,  0.,  0.,  1.,\n",
       "        1.,  1.,  1.,  1.,  1.,  1.,  1.,  1.,  0.,  0.,  0.,  0.,  0.,\n",
       "        0.,  0.,  0.,  0.,  0.,  0.,  0.,  0.,  0.,  0.,  0.,  0.,  0.,\n",
       "        0.,  0.,  0.,  0.,  0.,  0.,  0.,  0.,  0.,  0.,  0.,  0.,  0.,\n",
       "        0.,  0.,  0.,  0.,  0.,  0.,  0.,  0.,  0.,  0.,  0.,  0.,  0.,\n",
       "        0.,  0.,  0.,  0.,  0.,  0.,  0.,  0.,  0.,  0.,  0.,  0.,  0.,\n",
       "        0.,  0.,  0.,  0.,  0.,  0.,  0.,  0.,  0.,  0.,  0.,  0.,  0.,\n",
       "        0.,  0.,  0.,  0.,  0.,  0.,  0.,  0.,  0.])"
      ]
     },
     "execution_count": 4,
     "metadata": {},
     "output_type": "execute_result"
    }
   ],
   "source": [
    "ExtendedRPI[0]"
   ]
  },
  {
   "cell_type": "code",
   "execution_count": 36,
   "metadata": {},
   "outputs": [
    {
     "name": "stdout",
     "output_type": "stream",
     "text": [
      "59\n",
      "[0 1 1 1 1 1 1 1 1 0 1 0 0 0 1 0 1 1 1 1 1 0 0 0 0 0 1 1 0 1 1 1 0 0 0 0 0\n",
      " 1 1 1 0 1 1 1 0 1 0 0 1 1 1 1 0 0 1 1 1 1 1 1 0 0 0 1 1 1 1 1 1 1 1 0 1 0\n",
      " 0 0 0 0 0 1 1 1 1 1 0 0 1 1 1 0 0 1 1 1 0 0 1 1 1 1]\n",
      "61\n",
      "61\n",
      "[0 1 1 1 1 1 1 0 0 0 0 0 0 1 1 1 0 1 1 0 0 0 0 0 0 0 1 0 0 1 0 1 1 1 1 1 1\n",
      " 0 1 0 0 1 1 1 1 1 0 1 1 1 1 1 1 0 1 1 1 1 1 1 1 0 0 0 1 0 1 1 0 1 1 1 0 0\n",
      " 1 1 1 1 1 0 1 1 1 1 0 0 0 0 0 1 1 0 1 1 1 0 0 1 1 1]\n",
      "62\n",
      "[0 1 0 1 1 1 1 0 1 0 0 0 0 0 1 1 0 1 0 0 0 0 0 0 0 0 1 1 1 1 0 1 1 1 1 0 1\n",
      " 1 1 1 1 1 1 1 1 0 1 1 1 1 1 0 1 1 1 0 1 1 1 1 1 0 0 1 1 0 1 1 1 0 1 1 1 0\n",
      " 0 0 1 0 0 0 0 0 0 0 0 0 0 1 1 1 1 1 1 1 1 1 1 1 1 1]\n",
      "[0 1 1 1 1 1 1 0 1 1 1 0 1 1 1 1 0 0 1 1 1 1 1 0 0 0 1 1 0 0 0 0 1 1 1 0 0\n",
      " 0 1 1 1 1 1 1 1 1 1 1 1 0 0 1 1 0 0 0 0 1 1 1 0 0 1 1 1 1 1 1 1 0 1 1 0 0\n",
      " 1 1 1 0 0 1 1 0 0 1 0 0 0 0 0 1 1 0 0 1 1 0 0 1 1 1]\n",
      "62\n",
      "62\n",
      "62\n",
      "62\n",
      "62\n",
      "62\n",
      "62\n",
      "62\n",
      "63\n",
      "63\n",
      "63\n",
      "63\n",
      "63\n",
      "63\n",
      "63\n",
      "63\n",
      "[0 1 1 0 1 1 1 1 1 1 1 1 1 1 1 1 1 1 1 0 1 1 1 0 1 0 0 1 1 1 1 0 0 0 0 1 1\n",
      " 0 0 0 1 0 1 1 1 0 0 0 0 0 1 1 0 1 0 0 1 1 1 1 1 1 1 1 1 1 0 0 0 0 1 1 1 1\n",
      " 1 1 0 0 1 0 1 1 1 1 1 1 0 0 0 0 0 1 0 0 0 0 1 0 1 1]\n",
      "63\n",
      "63\n",
      "[0 1 1 1 1 1 1 1 0 0 1 0 1 1 1 1 0 0 1 1 1 1 0 1 1 0 0 0 0 1 1 0 0 1 1 1 1\n",
      " 1 1 0 0 0 1 1 1 1 1 0 1 0 0 0 1 1 1 1 1 1 1 1 0 1 0 1 1 1 1 1 0 0 0 1 0 1\n",
      " 1 1 1 1 1 1 1 1 1 0 0 0 0 0 0 1 1 0 0 0 1 0 0 0 1 0]\n",
      "63\n",
      "63\n",
      "63\n",
      "[0 1 1 0 1 1 0 0 0 1 0 0 1 1 0 0 0 0 1 1 0 1 0 1 0 1 1 0 0 1 1 1 0 0 0 0 1\n",
      " 0 0 1 1 0 1 1 1 1 1 1 1 0 0 1 0 0 1 1 1 0 1 0 0 1 1 1 1 1 1 1 1 1 1 1 1 1\n",
      " 1 0 0 1 1 0 0 0 1 1 1 1 1 1 1 1 1 1 1 1 0 0 1 0 0 1]\n",
      "63\n",
      "63\n",
      "63\n",
      "63\n",
      "63\n",
      "64\n",
      "[0 0 0 0 0 0 0 0 1 1 0 0 0 1 0 0 1 1 1 1 1 1 1 1 1 1 1 1 1 1 1 1 1 0 0 0 0\n",
      " 1 1 0 1 1 1 1 1 0 1 0 0 0 1 1 0 1 1 1 1 0 1 0 1 1 0 1 1 1 1 1 1 1 1 1 1 0\n",
      " 0 1 1 0 1 0 0 0 0 0 1 1 1 0 0 0 1 1 1 1 1 1 1 0 1 0]\n",
      "64\n",
      "[0 1 1 1 1 1 1 0 1 1 1 1 0 0 0 1 1 1 1 1 0 0 1 1 1 1 0 0 1 0 1 1 1 1 0 1 0\n",
      " 0 0 0 0 1 1 1 1 0 1 1 0 0 1 1 0 0 1 1 0 0 1 1 1 1 0 1 0 0 1 1 1 1 1 1 1 0\n",
      " 0 1 1 1 1 0 0 0 0 1 1 1 1 1 0 0 1 1 0 0 0 0 0 1 1 1]\n",
      "64\n",
      "64\n",
      "65\n",
      "65\n",
      "65\n",
      "65\n",
      "65\n",
      "67\n",
      "[0 1 1 1 1 0 0 0 1 0 0 0 1 0 0 1 0 1 1 1 0 0 0 1 1 1 1 1 0 1 1 1 0 1 0 1 1\n",
      " 0 1 0 1 1 0 0 1 1 1 1 1 1 1 1 1 1 0 0 0 0 1 1 0 1 1 1 1 1 0 1 0 0 1 1 0 0\n",
      " 0 0 1 1 1 1 1 1 1 1 0 1 1 0 0 0 0 0 1 1 0 1 1 1 1 1]\n",
      "67\n",
      "67\n",
      "[0 1 1 1 1 1 0 0 0 0 0 0 0 0 0 1 1 1 1 1 1 1 1 1 1 0 1 1 1 0 1 1 0 1 1 1 0\n",
      " 1 1 1 1 1 0 1 1 1 1 0 0 0 0 0 0 0 1 0 1 1 0 1 1 0 0 0 1 0 1 1 1 1 1 0 0 1\n",
      " 1 0 0 0 1 1 1 0 1 1 1 1 1 1 1 1 1 1 0 0 0 0 1 1 1 0]\n",
      "67\n",
      "67\n",
      "67\n",
      "67\n",
      "[0 1 1 0 0 1 0 1 1 1 1 1 1 0 1 1 1 1 1 1 0 1 1 0 0 1 1 0 1 1 0 0 1 1 1 1 1\n",
      " 0 1 1 1 1 0 0 1 1 1 1 1 0 0 0 0 0 1 0 1 0 0 0 1 0 0 1 1 1 1 1 0 1 1 1 1 1\n",
      " 0 1 1 0 0 0 0 0 0 1 1 1 1 1 1 1 0 0 0 0 1 0 1 1 1 0]\n",
      "67\n",
      "[0 0 1 0 1 0 1 1 0 0 1 1 1 1 0 0 1 1 1 1 1 0 1 0 1 0 0 1 1 1 0 1 0 1 1 1 1\n",
      " 1 0 1 0 0 0 0 1 0 1 1 1 1 1 1 1 1 1 1 0 1 1 1 1 1 0 0 0 1 1 1 0 0 0 0 1 1\n",
      " 1 1 1 1 0 1 0 1 1 0 0 1 1 1 1 0 0 1 1 1 1 0 0 0 0 0]\n",
      "67\n",
      "67\n",
      "67\n"
     ]
    }
   ],
   "source": [
    "indices = []\n",
    "entire_dataset, struc = Data()\n",
    "#print(entire_dataset.shape)\n",
    "\n",
    "# for held_out in syn_r:\n",
    "#     for i, row in enumerate(entire_dataset):\n",
    "\n",
    "#         matches = (row == held_out).sum()\n",
    "    \n",
    "#         if matches == 61:\n",
    "#             print( (row == held_out).astype(int))\n",
    "#         indices.append(matches)\n",
    "    \n",
    "    \n",
    "#     print(np.max(indices) )"
   ]
  }
 ],
 "metadata": {
  "kernelspec": {
   "display_name": "Python 3",
   "language": "python",
   "name": "python3"
  },
  "language_info": {
   "codemirror_mode": {
    "name": "ipython",
    "version": 3
   },
   "file_extension": ".py",
   "mimetype": "text/x-python",
   "name": "python",
   "nbconvert_exporter": "python",
   "pygments_lexer": "ipython3",
   "version": "3.6.4"
  }
 },
 "nbformat": 4,
 "nbformat_minor": 2
}
